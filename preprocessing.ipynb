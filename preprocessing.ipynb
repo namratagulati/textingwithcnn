{
  "nbformat": 4,
  "nbformat_minor": 0,
  "metadata": {
    "colab": {
      "provenance": [],
      "authorship_tag": "ABX9TyOFbdpd5v7g6cEu2anMlj5X",
      "include_colab_link": true
    },
    "kernelspec": {
      "name": "python3",
      "display_name": "Python 3"
    },
    "language_info": {
      "name": "python"
    }
  },
  "cells": [
    {
      "cell_type": "markdown",
      "metadata": {
        "id": "view-in-github",
        "colab_type": "text"
      },
      "source": [
        "<a href=\"https://colab.research.google.com/github/namratagulati/textingwithcnn/blob/main/preprocessing.ipynb\" target=\"_parent\"><img src=\"https://colab.research.google.com/assets/colab-badge.svg\" alt=\"Open In Colab\"/></a>"
      ]
    },
    {
      "cell_type": "code",
      "execution_count": 1,
      "metadata": {
        "id": "HdLg8TamDk4H"
      },
      "outputs": [],
      "source": [
        "import numpy as np\n",
        "import re"
      ]
    },
    {
      "cell_type": "code",
      "source": [
        "def clean(string):\n",
        "    # remove letters, numbers, or certain punctuation with a space\n",
        "    string = re.sub(r\"[^A-Za-z0-9(),!?\\'\\`]\", \" \", string)\n",
        "    # Add space before apostrophes in common contractions\n",
        "    string = re.sub(r\"\\'s\", \" \\'s\", string)\n",
        "    string = re.sub(r\"\\'ve\", \" \\'ve\", string)\n",
        "    string = re.sub(r\"n\\'t\", \" n\\'t\", string)\n",
        "    string = re.sub(r\"\\'re\", \" \\'re\", string)\n",
        "    string = re.sub(r\"\\'d\", \" \\'d\", string)\n",
        "    string = re.sub(r\"\\'ll\", \" \\'ll\", string)\n",
        "\n",
        "    # Add spaces around commas, exclamation marks, parentheses, and question marks\n",
        "    string = re.sub(r\",\", \" , \", string)\n",
        "    string = re.sub(r\"!\", \" ! \", string)\n",
        "    string = re.sub(r\"\\(\", \" \\( \", string)\n",
        "    string = re.sub(r\"\\)\", \" \\) \", string)\n",
        "    string = re.sub(r\"\\?\", \" \\? \", string)\n",
        "\n",
        "    # Replace multiple consecutive whitespaces with a single space\n",
        "    string = re.sub(r\"\\s{2,}\", \" \", string)\n",
        "\n",
        "    # change to lowercase and remove leading/trailing whitespaces\n",
        "    return string.strip().lower()"
      ],
      "metadata": {
        "id": "b7x7b72UHzic"
      },
      "execution_count": 2,
      "outputs": []
    },
    {
      "cell_type": "code",
      "source": [
        "def load(positive_data, negative_data):\n",
        "    #load data, split it, generate labels\n",
        "\n",
        "    positive_eg = list(open(positive_data, \"r\", encoding='utf-8').readlines())\n",
        "    positive_eg = [s.strip() for s in positive_eg]\n",
        "    negative_eg = list(open(negative_data, \"r\", encoding='utf-8').readlines())\n",
        "    negative_eg = [s.strip() for s in negative_eg]\n",
        "    # Split by words\n",
        "    x_text = positive_eg + negative_eg\n",
        "    x_text = [clean(sent) for sent in x_text]\n",
        "    # create final set of labels\n",
        "    poslabels = [[0, 1] for _ in positive_eg]\n",
        "    neglabels = [[1, 0] for _ in negative_eg]\n",
        "    y = np.concatenate([poslabels, neglabels], 0)\n",
        "    #return processed text and their corresponding labels\n",
        "    return [x_text, y]"
      ],
      "metadata": {
        "id": "vrcoWcmnJIfw"
      },
      "execution_count": 3,
      "outputs": []
    },
    {
      "cell_type": "code",
      "source": [
        "def batch_iteration(data, batch_size, no_epochs, shuffle=True):\n",
        "    \"\"\"\n",
        "    Generates a batch iterator for a dataset.\n",
        "    \"\"\"\n",
        "    data = np.array(data)\n",
        "    data_size = len(data)\n",
        "    #number of batches per epoch\n",
        "    bpe = int((len(data)-1)/batch_size) + 1\n",
        "    for epoch in range(no_epochs):\n",
        "        # Shuffle at each epoch, iterate each mini batch\n",
        "        if shuffle:\n",
        "            shuffle_indices = np.random.permutation(np.arange(data_size))\n",
        "            shuffled_data = data[shuffle_indices]\n",
        "        else:\n",
        "            shuffled_data = data\n",
        "        for batch_num in range(bpe):\n",
        "            start = batch_num * batch_size\n",
        "            end = min((batch_num + 1) * batch_size, data_size)\n",
        "            yield shuffled_data[start:end]"
      ],
      "metadata": {
        "id": "XRGD3DCkKe97"
      },
      "execution_count": 4,
      "outputs": []
    }
  ]
}